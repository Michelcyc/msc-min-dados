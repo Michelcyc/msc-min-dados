{
 "cells": [
  {
   "cell_type": "code",
   "execution_count": 16,
   "id": "3c70b40f",
   "metadata": {},
   "outputs": [],
   "source": [
    "# Carrega Bibliotecas\n",
    "\n",
    "library(dplyr)\n",
    "library(ggplot2)\n",
    "library(daltoolbox)\n",
    "library(RColorBrewer)\n"
   ]
  },
  {
   "cell_type": "code",
   "execution_count": 2,
   "id": "82b722a9",
   "metadata": {},
   "outputs": [
    {
     "data": {
      "text/html": [
       "'data'"
      ],
      "text/latex": [
       "'data'"
      ],
      "text/markdown": [
       "'data'"
      ],
      "text/plain": [
       "[1] \"data\""
      ]
     },
     "metadata": {},
     "output_type": "display_data"
    }
   ],
   "source": [
    "# Carrega Dataset\n",
    "load(\"../data/malaria/malaria.RData\")\n",
    "\n",
    "# Lista Objetos\n",
    "ls()"
   ]
  },
  {
   "cell_type": "code",
   "execution_count": 3,
   "id": "eac16e71",
   "metadata": {},
   "outputs": [
    {
     "data": {
      "text/html": [
       "<table class=\"dataframe\">\n",
       "<caption>A data.frame: 6 × 40</caption>\n",
       "<thead>\n",
       "\t<tr><th></th><th scope=col>infection.county</th><th scope=col>home.county</th><th scope=col>notification.county</th><th scope=col>qty.parasites</th><th scope=col>scheme</th><th scope=col>notification.hr</th><th scope=col>home.hr</th><th scope=col>infection.hr</th><th scope=col>exam.type</th><th scope=col>exam.result</th><th scope=col>⋯</th><th scope=col>exam.month</th><th scope=col>exam.year</th><th scope=col>treatment.month</th><th scope=col>treatment.year</th><th scope=col>symptom.month</th><th scope=col>symptom.year</th><th scope=col>exam.interval</th><th scope=col>treatment.interval</th><th scope=col>notification.interval</th><th scope=col>previous.treatment</th></tr>\n",
       "\t<tr><th></th><th scope=col>&lt;fct&gt;</th><th scope=col>&lt;fct&gt;</th><th scope=col>&lt;fct&gt;</th><th scope=col>&lt;dbl&gt;</th><th scope=col>&lt;fct&gt;</th><th scope=col>&lt;fct&gt;</th><th scope=col>&lt;fct&gt;</th><th scope=col>&lt;fct&gt;</th><th scope=col>&lt;fct&gt;</th><th scope=col>&lt;fct&gt;</th><th scope=col>⋯</th><th scope=col>&lt;ord&gt;</th><th scope=col>&lt;ord&gt;</th><th scope=col>&lt;ord&gt;</th><th scope=col>&lt;ord&gt;</th><th scope=col>&lt;ord&gt;</th><th scope=col>&lt;ord&gt;</th><th scope=col>&lt;ord&gt;</th><th scope=col>&lt;ord&gt;</th><th scope=col>&lt;ord&gt;</th><th scope=col>&lt;fct&gt;</th></tr>\n",
       "</thead>\n",
       "<tbody>\n",
       "\t<tr><th scope=row>1</th><td>110001</td><td>110001</td><td>110001</td><td>501100</td><td>1</td><td>ZONA DA MATA</td><td>ZONA DA MATA</td><td>ZONA DA MATA</td><td>thick and thin blood smears</td><td>vivax</td><td>⋯</td><td>02</td><td>2014</td><td>02</td><td>2014</td><td>02</td><td>2014</td><td>on the same day</td><td>on the same day</td><td>on the same day</td><td>vivax</td></tr>\n",
       "\t<tr><th scope=row>2</th><td>110001</td><td>110001</td><td>110001</td><td>    NA</td><td>1</td><td>ZONA DA MATA</td><td>ZONA DA MATA</td><td>ZONA DA MATA</td><td>thick and thin blood smears</td><td>vivax</td><td>⋯</td><td>12</td><td>2014</td><td>12</td><td>2014</td><td>12</td><td>2014</td><td>on the same day</td><td>on the same day</td><td>1 to 7 days    </td><td>vivax</td></tr>\n",
       "\t<tr><th scope=row>3</th><td>110001</td><td>110001</td><td>110001</td><td>    NA</td><td>1</td><td>ZONA DA MATA</td><td>ZONA DA MATA</td><td>ZONA DA MATA</td><td>thick and thin blood smears</td><td>vivax</td><td>⋯</td><td>11</td><td>2014</td><td>11</td><td>2014</td><td>11</td><td>2014</td><td>on the same day</td><td>on the same day</td><td>on the same day</td><td>no   </td></tr>\n",
       "\t<tr><th scope=row>4</th><td>110001</td><td>110001</td><td>110001</td><td>    NA</td><td>1</td><td>ZONA DA MATA</td><td>ZONA DA MATA</td><td>ZONA DA MATA</td><td>thick and thin blood smears</td><td>vivax</td><td>⋯</td><td>10</td><td>2013</td><td>10</td><td>2013</td><td>10</td><td>2013</td><td>on the same day</td><td>on the same day</td><td>1 to 7 days    </td><td>no   </td></tr>\n",
       "\t<tr><th scope=row>5</th><td>110001</td><td>110001</td><td>110001</td><td>     3</td><td>1</td><td>ZONA DA MATA</td><td>ZONA DA MATA</td><td>ZONA DA MATA</td><td>thick and thin blood smears</td><td>vivax</td><td>⋯</td><td>10</td><td>2014</td><td>10</td><td>2014</td><td>10</td><td>2014</td><td>on the same day</td><td>on the same day</td><td>1 to 7 days    </td><td>no   </td></tr>\n",
       "\t<tr><th scope=row>6</th><td>110001</td><td>110001</td><td>110001</td><td>305500</td><td>1</td><td>ZONA DA MATA</td><td>ZONA DA MATA</td><td>ZONA DA MATA</td><td>thick and thin blood smears</td><td>vivax</td><td>⋯</td><td>11</td><td>2013</td><td>11</td><td>2013</td><td>NA</td><td>NA  </td><td>1 to 7 days    </td><td>on the same day</td><td>NA             </td><td>no   </td></tr>\n",
       "</tbody>\n",
       "</table>\n"
      ],
      "text/latex": [
       "A data.frame: 6 × 40\n",
       "\\begin{tabular}{r|lllllllllllllllllllll}\n",
       "  & infection.county & home.county & notification.county & qty.parasites & scheme & notification.hr & home.hr & infection.hr & exam.type & exam.result & ⋯ & exam.month & exam.year & treatment.month & treatment.year & symptom.month & symptom.year & exam.interval & treatment.interval & notification.interval & previous.treatment\\\\\n",
       "  & <fct> & <fct> & <fct> & <dbl> & <fct> & <fct> & <fct> & <fct> & <fct> & <fct> & ⋯ & <ord> & <ord> & <ord> & <ord> & <ord> & <ord> & <ord> & <ord> & <ord> & <fct>\\\\\n",
       "\\hline\n",
       "\t1 & 110001 & 110001 & 110001 & 501100 & 1 & ZONA DA MATA & ZONA DA MATA & ZONA DA MATA & thick and thin blood smears & vivax & ⋯ & 02 & 2014 & 02 & 2014 & 02 & 2014 & on the same day & on the same day & on the same day & vivax\\\\\n",
       "\t2 & 110001 & 110001 & 110001 &     NA & 1 & ZONA DA MATA & ZONA DA MATA & ZONA DA MATA & thick and thin blood smears & vivax & ⋯ & 12 & 2014 & 12 & 2014 & 12 & 2014 & on the same day & on the same day & 1 to 7 days     & vivax\\\\\n",
       "\t3 & 110001 & 110001 & 110001 &     NA & 1 & ZONA DA MATA & ZONA DA MATA & ZONA DA MATA & thick and thin blood smears & vivax & ⋯ & 11 & 2014 & 11 & 2014 & 11 & 2014 & on the same day & on the same day & on the same day & no   \\\\\n",
       "\t4 & 110001 & 110001 & 110001 &     NA & 1 & ZONA DA MATA & ZONA DA MATA & ZONA DA MATA & thick and thin blood smears & vivax & ⋯ & 10 & 2013 & 10 & 2013 & 10 & 2013 & on the same day & on the same day & 1 to 7 days     & no   \\\\\n",
       "\t5 & 110001 & 110001 & 110001 &      3 & 1 & ZONA DA MATA & ZONA DA MATA & ZONA DA MATA & thick and thin blood smears & vivax & ⋯ & 10 & 2014 & 10 & 2014 & 10 & 2014 & on the same day & on the same day & 1 to 7 days     & no   \\\\\n",
       "\t6 & 110001 & 110001 & 110001 & 305500 & 1 & ZONA DA MATA & ZONA DA MATA & ZONA DA MATA & thick and thin blood smears & vivax & ⋯ & 11 & 2013 & 11 & 2013 & NA & NA   & 1 to 7 days     & on the same day & NA              & no   \\\\\n",
       "\\end{tabular}\n"
      ],
      "text/markdown": [
       "\n",
       "A data.frame: 6 × 40\n",
       "\n",
       "| <!--/--> | infection.county &lt;fct&gt; | home.county &lt;fct&gt; | notification.county &lt;fct&gt; | qty.parasites &lt;dbl&gt; | scheme &lt;fct&gt; | notification.hr &lt;fct&gt; | home.hr &lt;fct&gt; | infection.hr &lt;fct&gt; | exam.type &lt;fct&gt; | exam.result &lt;fct&gt; | ⋯ ⋯ | exam.month &lt;ord&gt; | exam.year &lt;ord&gt; | treatment.month &lt;ord&gt; | treatment.year &lt;ord&gt; | symptom.month &lt;ord&gt; | symptom.year &lt;ord&gt; | exam.interval &lt;ord&gt; | treatment.interval &lt;ord&gt; | notification.interval &lt;ord&gt; | previous.treatment &lt;fct&gt; |\n",
       "|---|---|---|---|---|---|---|---|---|---|---|---|---|---|---|---|---|---|---|---|---|---|\n",
       "| 1 | 110001 | 110001 | 110001 | 501100 | 1 | ZONA DA MATA | ZONA DA MATA | ZONA DA MATA | thick and thin blood smears | vivax | ⋯ | 02 | 2014 | 02 | 2014 | 02 | 2014 | on the same day | on the same day | on the same day | vivax |\n",
       "| 2 | 110001 | 110001 | 110001 |     NA | 1 | ZONA DA MATA | ZONA DA MATA | ZONA DA MATA | thick and thin blood smears | vivax | ⋯ | 12 | 2014 | 12 | 2014 | 12 | 2014 | on the same day | on the same day | 1 to 7 days     | vivax |\n",
       "| 3 | 110001 | 110001 | 110001 |     NA | 1 | ZONA DA MATA | ZONA DA MATA | ZONA DA MATA | thick and thin blood smears | vivax | ⋯ | 11 | 2014 | 11 | 2014 | 11 | 2014 | on the same day | on the same day | on the same day | no    |\n",
       "| 4 | 110001 | 110001 | 110001 |     NA | 1 | ZONA DA MATA | ZONA DA MATA | ZONA DA MATA | thick and thin blood smears | vivax | ⋯ | 10 | 2013 | 10 | 2013 | 10 | 2013 | on the same day | on the same day | 1 to 7 days     | no    |\n",
       "| 5 | 110001 | 110001 | 110001 |      3 | 1 | ZONA DA MATA | ZONA DA MATA | ZONA DA MATA | thick and thin blood smears | vivax | ⋯ | 10 | 2014 | 10 | 2014 | 10 | 2014 | on the same day | on the same day | 1 to 7 days     | no    |\n",
       "| 6 | 110001 | 110001 | 110001 | 305500 | 1 | ZONA DA MATA | ZONA DA MATA | ZONA DA MATA | thick and thin blood smears | vivax | ⋯ | 11 | 2013 | 11 | 2013 | NA | NA   | 1 to 7 days     | on the same day | NA              | no    |\n",
       "\n"
      ],
      "text/plain": [
       "  infection.county home.county notification.county qty.parasites scheme\n",
       "1 110001           110001      110001              501100        1     \n",
       "2 110001           110001      110001                  NA        1     \n",
       "3 110001           110001      110001                  NA        1     \n",
       "4 110001           110001      110001                  NA        1     \n",
       "5 110001           110001      110001                   3        1     \n",
       "6 110001           110001      110001              305500        1     \n",
       "  notification.hr home.hr      infection.hr exam.type                  \n",
       "1 ZONA DA MATA    ZONA DA MATA ZONA DA MATA thick and thin blood smears\n",
       "2 ZONA DA MATA    ZONA DA MATA ZONA DA MATA thick and thin blood smears\n",
       "3 ZONA DA MATA    ZONA DA MATA ZONA DA MATA thick and thin blood smears\n",
       "4 ZONA DA MATA    ZONA DA MATA ZONA DA MATA thick and thin blood smears\n",
       "5 ZONA DA MATA    ZONA DA MATA ZONA DA MATA thick and thin blood smears\n",
       "6 ZONA DA MATA    ZONA DA MATA ZONA DA MATA thick and thin blood smears\n",
       "  exam.result ⋯ exam.month exam.year treatment.month treatment.year\n",
       "1 vivax       ⋯ 02         2014      02              2014          \n",
       "2 vivax       ⋯ 12         2014      12              2014          \n",
       "3 vivax       ⋯ 11         2014      11              2014          \n",
       "4 vivax       ⋯ 10         2013      10              2013          \n",
       "5 vivax       ⋯ 10         2014      10              2014          \n",
       "6 vivax       ⋯ 11         2013      11              2013          \n",
       "  symptom.month symptom.year exam.interval   treatment.interval\n",
       "1 02            2014         on the same day on the same day   \n",
       "2 12            2014         on the same day on the same day   \n",
       "3 11            2014         on the same day on the same day   \n",
       "4 10            2013         on the same day on the same day   \n",
       "5 10            2014         on the same day on the same day   \n",
       "6 NA            NA           1 to 7 days     on the same day   \n",
       "  notification.interval previous.treatment\n",
       "1 on the same day       vivax             \n",
       "2 1 to 7 days           vivax             \n",
       "3 on the same day       no                \n",
       "4 1 to 7 days           no                \n",
       "5 1 to 7 days           no                \n",
       "6 NA                    no                "
      ]
     },
     "metadata": {},
     "output_type": "display_data"
    }
   ],
   "source": [
    "# Exibe as Colunas\n",
    "head(data)"
   ]
  },
  {
   "cell_type": "code",
   "execution_count": 4,
   "id": "d766aa60",
   "metadata": {},
   "outputs": [
    {
     "data": {
      "text/plain": [
       " infection.county    home.county       notification.county qty.parasites     \n",
       " 130260 :  254086   130260 :  341082   120020 : 2367517    Min.   :     0    \n",
       " 120020 :  195149   120020 :  199012   130260 : 2076083    1st Qu.:    60    \n",
       " 150070 :  143708   150070 :  138806   110020 : 1018178    Median :   700    \n",
       " 110020 :  138296   110020 :  137645   120033 :  881393    Mean   :  3335    \n",
       " 130380 :   98734   130380 :   96825   130040 :  682656    3rd Qu.:  2500    \n",
       " (Other): 2064572   (Other): 2053342   150070 :  617060    Max.   :999999    \n",
       " NA's   :20029432   NA's   :19957265   (Other):15281090    NA's   :22062051  \n",
       "     scheme                                notification.hr   \n",
       " 1      : 2192733   MANAUS ENTORNO E ALTO RIO NEGRO:4245518  \n",
       " 99     :  208923   JURUA E TARAUACA/ENVIRA        :3940345  \n",
       " 5      :   95601   MADEIRA-MAMORE                 :1318581  \n",
       " 2      :   47841   REGIONAL JURUA                 :1256899  \n",
       " 11     :   46571   MARAJO II                      :1234896  \n",
       " (Other):   61612   CENTRO NORTE                   :1152028  \n",
       " NA's   :20270696   (Other)                        :9775710  \n",
       "                            home.hr        \n",
       " MANAUS ENTORNO E ALTO RIO NEGRO:  569634  \n",
       " JURUA E TARAUACA/ENVIRA        :  342531  \n",
       " MARAJO II                      :  270426  \n",
       " MADEIRA-MAMORE                 :  180249  \n",
       " TAPAJOS                        :  137693  \n",
       " (Other)                        : 1466176  \n",
       " NA's                           :19957268  \n",
       "                          infection.hr     \n",
       " MANAUS ENTORNO E ALTO RIO NEGRO:  535122  \n",
       " JURUA E TARAUACA/ENVIRA        :  342698  \n",
       " MARAJO II                      :  278472  \n",
       " MADEIRA-MAMORE                 :  186997  \n",
       " TAPAJOS                        :  145566  \n",
       " (Other)                        : 1405689  \n",
       " NA's                           :20029433  \n",
       "                       exam.type                exam.result      \n",
       " thick and thin blood smears:14220705   negative      :20186404  \n",
       " rapid diagnostic test      :  238417   vivax         : 2365980  \n",
       " NA's                       : 8464855   falciparum    :  262440  \n",
       "                                        F+FG          :   48518  \n",
       "                                        non falciparum:   22690  \n",
       "                                        (Other)       :   37938  \n",
       "                                        NA's          :       7  \n",
       "     gender                               hemiparasite      symptom        \n",
       " male   : 2260842   negative                    :13554989   yes : 2785967  \n",
       " female : 1573789   trypanosoma                 :    2629   no  :  196215  \n",
       " ignored:     244   microfilaria                :   24319   NA's:19941795  \n",
       " NA's   :19089102   trypanosoma and microfilaria:    1800                  \n",
       "                    not researched              :  852011                  \n",
       "                    NA's                        : 8488229                  \n",
       "                                                                           \n",
       "         race                    occupation       detection.type    \n",
       " white     :  129879   other          : 1266864   active :10240176  \n",
       " black     :   80497   agriculture    :  574119   passive:11910375  \n",
       " asian     :   18137   domestic worker:  281130   CVL    :  773426  \n",
       " mixed race: 1238827   ignored        :  166311                     \n",
       " indigenous:  310323   panning        :  156995                     \n",
       " NA's      :21146314   (Other)        :  198544                     \n",
       "                       NA's           :20280014                     \n",
       "                    education.level                    pregnancy       \n",
       " incomplete primary school  :  708970   first trimester     :   16719  \n",
       " incomplete secondary school:  532981   second trimester    :   19300  \n",
       " not applicable             :  328837   third trimester     :   18137  \n",
       " illiterate                 :  287234   ignored gestational :   21727  \n",
       " complete secondary school  :  274679   no                  : 1015727  \n",
       " (Other)                    :  563660   not applicable      : 2448510  \n",
       " NA's                       :20227616   NA's                :19383857  \n",
       "                 crosses         cvl.case         home.state      \n",
       " less than half cross:  693182   yes: 1779168   AM     : 1134267  \n",
       " half cross          :  365319   no :21144809   PA     :  779407  \n",
       " one cross           :  527452                  AC     :  356585  \n",
       " two crosses         : 1018413                  RO     :  257517  \n",
       " three crosses       :   75195                  AP     :  185211  \n",
       " four crosses        :    2800                  (Other):  253737  \n",
       " NA's                :20241616                  NA's   :19957253  \n",
       " infection.state    notification.state        home.country     \n",
       " AM     : 1130625   AM     :9713298    Brazil       : 2993428  \n",
       " PA     :  787770   AC     :4165435    Venezuela    :    8747  \n",
       " AC     :  351645   PA     :4015621    Peru         :    4065  \n",
       " RO     :  248475   RO     :1782030    Bolivia      :     963  \n",
       " AP     :  168429   RR     :1565275    French Guiana:     204  \n",
       " (Other):  208207   AP     : 898400    (Other)      :     391  \n",
       " NA's   :20028826   (Other): 783918    NA's         :19916179  \n",
       "     infection.country    migration       autochthonous.case\n",
       " Brazil       : 2922252   no  : 2898462   no  :  171820     \n",
       " Venezuela    :   30300   yes :   68247   yes : 2722371     \n",
       " French Guiana:   21726   NA's:19957268   NA's:20029786     \n",
       " Guyana       :   15961                                     \n",
       " Peru         :   10415                                     \n",
       " (Other)      :    4736                                     \n",
       " NA's         :19918587                                     \n",
       "                 age           notification.month notification.year\n",
       " 05 to 14 years old:  861760   07     : 2075234   2010   :3034559  \n",
       " 15 to 24 years old:  795114   05     : 2068061   2009   :2896672  \n",
       " 25 to 34 years old:  664481   08     : 2055853   2011   :2682401  \n",
       " 35 to 44 years old:  482618   03     : 2017315   2012   :2509760  \n",
       " 01 to 04 years old:  376326   06     : 1987877   2013   :2058687  \n",
       " (Other)           :  654550   01     : 1962831   2018   :1792525  \n",
       " NA's              :19089128   (Other):10756806   (Other):7949373  \n",
       "   exam.month         exam.year        treatment.month    treatment.year    \n",
       " 08     :  287711   2010   :  439488   08     :  263407   2010   :  405640  \n",
       " 07     :  287503   2009   :  399058   07     :  262922   2009   :  360508  \n",
       " 09     :  271316   2011   :  346677   09     :  249136   2011   :  311307  \n",
       " 10     :  261834   2012   :  305680   10     :  240483   2012   :  276091  \n",
       " 06     :  257220   2018   :  263125   06     :  235057   2018   :  239694  \n",
       " (Other): 1615335   (Other): 1226891   (Other): 1436173   (Other): 1093938  \n",
       " NA's   :19943058   NA's   :19943058   NA's   :20236799   NA's   :20236799  \n",
       " symptom.month       symptom.year                exam.interval     \n",
       " 07     :  270009   2010   :  418178   on the same day  : 2841553  \n",
       " 08     :  266706   2009   :  378217   1 to 7 days      :  129730  \n",
       " 09     :  252326   2011   :  325051   8 to 30 days     :    6580  \n",
       " 10     :  242810   2012   :  281455   more than a month:    3056  \n",
       " 01     :  241686   2018   :  246187   NA's             :19943058  \n",
       " (Other): 1510145   (Other): 1134594                               \n",
       " NA's   :20140295   NA's   :20140295                               \n",
       "                    treatment.interval         notification.interval \n",
       " treatment before examination:   14498   on the same day  :  505084  \n",
       " on the same day             : 2607338   1 to 7 days      : 2137732  \n",
       " 1 to 7 days                 :   57731   8 to 30 days     :  112094  \n",
       " 8 to 30 days                :    2079   more than a month:   28772  \n",
       " more than a month           :    5298   NA's             :20140295  \n",
       " NA's                        :20237033                               \n",
       "                                                                     \n",
       "            previous.treatment  \n",
       " falciparum          :  108702  \n",
       " no                  :13414276  \n",
       " vivax               :  893122  \n",
       " vivax and falciparum:   43008  \n",
       " NA's                : 8464869  \n",
       "                                \n",
       "                                "
      ]
     },
     "metadata": {},
     "output_type": "display_data"
    }
   ],
   "source": [
    "# Visão Geral dos Dados\n",
    "summary(data)"
   ]
  },
  {
   "cell_type": "code",
   "execution_count": 5,
   "id": "a6bbb115",
   "metadata": {},
   "outputs": [
    {
     "name": "stdout",
     "output_type": "stream",
     "text": [
      "Rows: 22,923,977\n",
      "Columns: 40\n",
      "$ infection.county      \u001b[3m\u001b[90m<fct>\u001b[39m\u001b[23m 110001, 110001, 110001, 110001, 110001, 110001, …\n",
      "$ home.county           \u001b[3m\u001b[90m<fct>\u001b[39m\u001b[23m 110001, 110001, 110001, 110001, 110001, 110001, …\n",
      "$ notification.county   \u001b[3m\u001b[90m<fct>\u001b[39m\u001b[23m 110001, 110001, 110001, 110001, 110001, 110001, …\n",
      "$ qty.parasites         \u001b[3m\u001b[90m<dbl>\u001b[39m\u001b[23m 501100, NA, NA, NA, 3, 305500, NA, NA, NA, 50110…\n",
      "$ scheme                \u001b[3m\u001b[90m<fct>\u001b[39m\u001b[23m 1, 1, 1, 1, 1, 1, 1, 1, 1, 1, 1, 1, 99, 1, 1, 1,…\n",
      "$ notification.hr       \u001b[3m\u001b[90m<fct>\u001b[39m\u001b[23m ZONA DA MATA, ZONA DA MATA, ZONA DA MATA, ZONA D…\n",
      "$ home.hr               \u001b[3m\u001b[90m<fct>\u001b[39m\u001b[23m ZONA DA MATA, ZONA DA MATA, ZONA DA MATA, ZONA D…\n",
      "$ infection.hr          \u001b[3m\u001b[90m<fct>\u001b[39m\u001b[23m ZONA DA MATA, ZONA DA MATA, ZONA DA MATA, ZONA D…\n",
      "$ exam.type             \u001b[3m\u001b[90m<fct>\u001b[39m\u001b[23m thick and thin blood smears, thick and thin bloo…\n",
      "$ exam.result           \u001b[3m\u001b[90m<fct>\u001b[39m\u001b[23m vivax, vivax, vivax, vivax, vivax, vivax, vivax,…\n",
      "$ gender                \u001b[3m\u001b[90m<fct>\u001b[39m\u001b[23m male, male, male, male, female, male, female, ma…\n",
      "$ hemiparasite          \u001b[3m\u001b[90m<fct>\u001b[39m\u001b[23m negative, not researched, negative, not research…\n",
      "$ symptom               \u001b[3m\u001b[90m<fct>\u001b[39m\u001b[23m yes, yes, yes, yes, yes, no, yes, yes, yes, yes,…\n",
      "$ race                  \u001b[3m\u001b[90m<fct>\u001b[39m\u001b[23m indigenous, indigenous, indigenous, black, indig…\n",
      "$ occupation            \u001b[3m\u001b[90m<fct>\u001b[39m\u001b[23m vegetal exploitation, other, agriculture, other,…\n",
      "$ detection.type        \u001b[3m\u001b[90m<fct>\u001b[39m\u001b[23m active, active, active, active, passive, passive…\n",
      "$ education.level       \u001b[3m\u001b[90m<ord>\u001b[39m\u001b[23m incomplete primary school, complete high school,…\n",
      "$ pregnancy             \u001b[3m\u001b[90m<fct>\u001b[39m\u001b[23m not applicable, not applicable, not applicable, …\n",
      "$ crosses               \u001b[3m\u001b[90m<ord>\u001b[39m\u001b[23m two crosses, two crosses, two crosses, one cross…\n",
      "$ cvl.case              \u001b[3m\u001b[90m<fct>\u001b[39m\u001b[23m yes, yes, no, no, no, no, no, no, no, no, no, no…\n",
      "$ home.state            \u001b[3m\u001b[90m<fct>\u001b[39m\u001b[23m RO, RO, RO, RO, RO, RO, RO, RO, RO, RO, RO, RO, …\n",
      "$ infection.state       \u001b[3m\u001b[90m<fct>\u001b[39m\u001b[23m RO, RO, RO, RO, RO, RO, RO, RO, RO, RO, RO, RO, …\n",
      "$ notification.state    \u001b[3m\u001b[90m<fct>\u001b[39m\u001b[23m RO, RO, RO, RO, RO, RO, RO, RO, RO, RO, RO, RO, …\n",
      "$ home.country          \u001b[3m\u001b[90m<fct>\u001b[39m\u001b[23m Brazil, Brazil, Brazil, Brazil, Brazil, Brazil, …\n",
      "$ infection.country     \u001b[3m\u001b[90m<fct>\u001b[39m\u001b[23m Brazil, Brazil, Brazil, Brazil, Brazil, Brazil, …\n",
      "$ migration             \u001b[3m\u001b[90m<fct>\u001b[39m\u001b[23m no, no, no, no, no, no, no, no, no, no, no, no, …\n",
      "$ autochthonous.case    \u001b[3m\u001b[90m<fct>\u001b[39m\u001b[23m yes, yes, yes, yes, yes, yes, yes, yes, yes, yes…\n",
      "$ age                   \u001b[3m\u001b[90m<ord>\u001b[39m\u001b[23m 05 to 14 years old, 15 to 24 years old, 15 to 24…\n",
      "$ notification.month    \u001b[3m\u001b[90m<ord>\u001b[39m\u001b[23m 02, 12, 11, 10, 10, 11, 01, 02, 10, 03, 09, 03, …\n",
      "$ notification.year     \u001b[3m\u001b[90m<ord>\u001b[39m\u001b[23m 2014, 2014, 2014, 2013, 2014, 2013, 2013, 2014, …\n",
      "$ exam.month            \u001b[3m\u001b[90m<ord>\u001b[39m\u001b[23m 02, 12, 11, 10, 10, 11, 01, 02, 10, 03, 09, 03, …\n",
      "$ exam.year             \u001b[3m\u001b[90m<ord>\u001b[39m\u001b[23m 2014, 2014, 2014, 2013, 2014, 2013, 2013, 2014, …\n",
      "$ treatment.month       \u001b[3m\u001b[90m<ord>\u001b[39m\u001b[23m 02, 12, 11, 10, 10, 11, 01, 02, 10, 03, 09, 03, …\n",
      "$ treatment.year        \u001b[3m\u001b[90m<ord>\u001b[39m\u001b[23m 2014, 2014, 2014, 2013, 2014, 2013, 2013, 2014, …\n",
      "$ symptom.month         \u001b[3m\u001b[90m<ord>\u001b[39m\u001b[23m 02, 12, 11, 10, 10, NA, 01, 02, 10, 03, 09, 03, …\n",
      "$ symptom.year          \u001b[3m\u001b[90m<ord>\u001b[39m\u001b[23m 2014, 2014, 2014, 2013, 2014, NA, 2013, 2014, 20…\n",
      "$ exam.interval         \u001b[3m\u001b[90m<ord>\u001b[39m\u001b[23m on the same day, on the same day, on the same da…\n",
      "$ treatment.interval    \u001b[3m\u001b[90m<ord>\u001b[39m\u001b[23m on the same day, on the same day, on the same da…\n",
      "$ notification.interval \u001b[3m\u001b[90m<ord>\u001b[39m\u001b[23m on the same day, 1 to 7 days, on the same day, 1…\n",
      "$ previous.treatment    \u001b[3m\u001b[90m<fct>\u001b[39m\u001b[23m vivax, vivax, no, no, no, no, no, no, no, no, no…\n"
     ]
    }
   ],
   "source": [
    "# Amostra dos Valores de Cada Coluna\n",
    "glimpse(data)"
   ]
  },
  {
   "cell_type": "code",
   "execution_count": 6,
   "id": "91762a1e",
   "metadata": {},
   "outputs": [
    {
     "name": "stdout",
     "output_type": "stream",
     "text": [
      "[1] \"Número de Linhas: 22923977\"\n",
      "[1] \"Número de Colunas: 40\"\n"
     ]
    }
   ],
   "source": [
    "# número de linhas e colunas\n",
    "print(paste(\"Número de Linhas:\",nrow(data)))\n",
    "print(paste(\"Número de Colunas:\",ncol(data)))"
   ]
  },
  {
   "cell_type": "code",
   "execution_count": 7,
   "id": "1033631a",
   "metadata": {},
   "outputs": [
    {
     "data": {
      "text/plain": [
       "          exam.year\n",
       "home.state   2009   2010   2011   2012   2013   2014   2015   2016   2017\n",
       "        RO  51441  53612  38038  30292  18566  12369   9828   9608   9302\n",
       "        AC  29101  41534  25621  30488  37360  34007  29567  38833  42603\n",
       "        AM 143058 106677  94522 114888 106268  90647 102620  74978 112154\n",
       "        RR  17357  25236  15519   9755  10029   8953   9671  10022  16443\n",
       "        PA 125907 183043 142056  95708  29811  13567  11366  18571  51714\n",
       "        AP  17795  17632  21421  17202  17497  15611  16153  14332  17763\n",
       "        TO    198    199    101     95     88     32     24     34    566\n",
       "        MA   9186   7172   5890   3697   4907   3983   2406   2053   3532\n",
       "        PI      1     34     16     21     93     31      3      5      3\n",
       "        CE      6      8      1      3     14      6      0      2      0\n",
       "        RN      1      4      4      3      5      4      0      0      0\n",
       "        PB      6      6      3      7     15      8      0      2      2\n",
       "        PE      0      8      2     10     20      4      3      0      0\n",
       "        AL      2      1      0      8     26     18      0      0      0\n",
       "        SE      0      8      0      1     17      3      1      0      0\n",
       "        BA      7      6      4      4     28     19      4      5      1\n",
       "        MG      8     10     13     14     20     13      3      0      0\n",
       "        ES      7      2      1      1      1      2      1      0      0\n",
       "        RJ      1      1      1      1      4      4      2      0      0\n",
       "        SP      9     34     11     15     10      9      4      0      2\n",
       "        PR      8     21     15     13     12      8      2      4      3\n",
       "        SC      7      9      5      6      7      7      3      0      0\n",
       "        RS      3      6      3      6      3      3      0      1      0\n",
       "        MS     11      7      4      3     11      4      0      2      0\n",
       "        MT   4386   3104   3021   2641   2594   1534   1610    926    789\n",
       "        GO     11     18     19     20     25     12      5      5      6\n",
       "        DF      6      3      1      2      1      0      2      1      6\n",
       "          exam.year\n",
       "home.state   2018   2019   2020\n",
       "        RO  10966  13457      0\n",
       "        AC  31999  15455      0\n",
       "        AM 101616  86725      5\n",
       "        RR  27323  28605      0\n",
       "        PA  65755  41761      1\n",
       "        AP  17463  12319      1\n",
       "        TO    363     47      0\n",
       "        MA   3086   1717      1\n",
       "        PI      3      0      0\n",
       "        CE      1      0      0\n",
       "        RN      0      0      0\n",
       "        PB      1      2      0\n",
       "        PE      0      2      0\n",
       "        AL      0      0      0\n",
       "        SE      0      0      0\n",
       "        BA      0      1      0\n",
       "        MG      1      2      0\n",
       "        ES      1      0      0\n",
       "        RJ      1      2      0\n",
       "        SP      4      5      0\n",
       "        PR      5      3      0\n",
       "        SC      0      2      0\n",
       "        RS      4      1      0\n",
       "        MS      2      1      0\n",
       "        MT   1206   2460      0\n",
       "        GO      3      3      0\n",
       "        DF      5      0      0"
      ]
     },
     "metadata": {},
     "output_type": "display_data"
    }
   ],
   "source": [
    "# selecionar colunas de regiões e anos\n",
    "\n",
    "sra <- select(data, home.state, exam.year)\n",
    "\n",
    "table(sra)"
   ]
  },
  {
   "cell_type": "code",
   "execution_count": 90,
   "id": "c7d00765",
   "metadata": {
    "scrolled": true
   },
   "outputs": [
    {
     "data": {
      "image/png": "[encoded data removed]",
      "text/plain": [
       "plot without title"
      ]
     },
     "metadata": {
      "image/png": {
       "height": 420,
       "width": 420
      }
     },
     "output_type": "display_data"
    }
   ],
   "source": [
    "# filtra os dados para plotar\n",
    "\n",
    "#gra <- sra |> group_by(home.state) |> summarize(exam.year=count(exam.year))\n",
    "\n",
    "#filtra ano=2009, valores nulos, e os 5 maiores estados\n",
    "\n",
    "gra <- sra %>% group_by(home.state) %>% count(exam.year=2009, sort=TRUE, name=\"Total\") \n",
    "gra <- gra[,-2]\n",
    "gra <- gra[-1,]\n",
    "gra <- head(gra,n=5)\n",
    "\n",
    "\n",
    "colors <- brewer.pal(5, 'Set2')\n",
    "# setting the font size for all charts\n",
    "font <- theme(text = element_text(size=16))\n",
    "\n",
    "grf <- plot_bar(gra, colors=colors[1:5], label_x = \"Estados\", label_y = \"Número de Casos\") + font\n",
    "plot(grf)\n"
   ]
  },
  {
   "cell_type": "markdown",
   "id": "c878ce13",
   "metadata": {},
   "source": []
  },
  {
   "cell_type": "code",
   "execution_count": 47,
   "id": "ee064461",
   "metadata": {},
   "outputs": [
    {
     "data": {
      "text/html": [
       "<pre class=language-r><code>function (data, label_x = \"\", label_y = \"\", colors = NULL, alpha = 1) \n",
       "NULL</code></pre>"
      ],
      "text/latex": [
       "\\begin{minted}{r}\n",
       "function (data, label\\_x = \"\", label\\_y = \"\", colors = NULL, alpha = 1) \n",
       "NULL\n",
       "\\end{minted}"
      ],
      "text/markdown": [
       "```r\n",
       "function (data, label_x = \"\", label_y = \"\", colors = NULL, alpha = 1) \n",
       "NULL\n",
       "```"
      ],
      "text/plain": [
       "function (data, label_x = \"\", label_y = \"\", colors = NULL, alpha = 1) \n",
       "NULL"
      ]
     },
     "metadata": {},
     "output_type": "display_data"
    }
   ],
   "source": [
    "args(plot_bar)"
   ]
  }
 ],
 "metadata": {
  "kernelspec": {
   "display_name": "R",
   "language": "R",
   "name": "ir"
  },
  "language_info": {
   "codemirror_mode": "r",
   "file_extension": ".r",
   "mimetype": "text/x-r-source",
   "name": "R",
   "pygments_lexer": "r",
   "version": "4.3.1"
  }
 },
 "nbformat": 4,
 "nbformat_minor": 5
}
